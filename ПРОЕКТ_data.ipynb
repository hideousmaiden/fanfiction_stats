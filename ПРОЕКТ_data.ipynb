{
 "cells": [
  {
   "cell_type": "markdown",
   "id": "28208929",
   "metadata": {},
   "source": [
    "## Графики и таблички"
   ]
  },
  {
   "cell_type": "markdown",
   "id": "1326b345",
   "metadata": {},
   "source": [
    "Я не знала, какие картинки выдать боту, поэтому сделала какой-то статистики из получившейся базы"
   ]
  },
  {
   "cell_type": "code",
   "execution_count": 1,
   "id": "f47f549f",
   "metadata": {},
   "outputs": [],
   "source": [
    "import sqlite3\n",
    "import pandas as pd"
   ]
  },
  {
   "cell_type": "code",
   "execution_count": 2,
   "id": "fdd6dd09",
   "metadata": {},
   "outputs": [],
   "source": [
    "con = sqlite3.connect('voltron.db')\n",
    "cur = con.cursor()\n",
    "\n",
    "b_query = \"\"\"\n",
    "SELECT *\n",
    "FROM main \n",
    "\"\"\""
   ]
  },
  {
   "cell_type": "code",
   "execution_count": 3,
   "id": "00570da8",
   "metadata": {},
   "outputs": [],
   "source": [
    "df = pd.read_sql_query(b_query, con=con)"
   ]
  },
  {
   "cell_type": "code",
   "execution_count": 4,
   "id": "5650ca0e",
   "metadata": {},
   "outputs": [
    {
     "data": {
      "text/html": [
       "<div>\n",
       "<style scoped>\n",
       "    .dataframe tbody tr th:only-of-type {\n",
       "        vertical-align: middle;\n",
       "    }\n",
       "\n",
       "    .dataframe tbody tr th {\n",
       "        vertical-align: top;\n",
       "    }\n",
       "\n",
       "    .dataframe thead th {\n",
       "        text-align: right;\n",
       "    }\n",
       "</style>\n",
       "<table border=\"1\" class=\"dataframe\">\n",
       "  <thead>\n",
       "    <tr style=\"text-align: right;\">\n",
       "      <th></th>\n",
       "      <th>id</th>\n",
       "      <th>title</th>\n",
       "      <th>author</th>\n",
       "      <th>date</th>\n",
       "      <th>kudos</th>\n",
       "      <th>complete</th>\n",
       "      <th>age</th>\n",
       "      <th>genre</th>\n",
       "    </tr>\n",
       "  </thead>\n",
       "  <tbody>\n",
       "    <tr>\n",
       "      <th>0</th>\n",
       "      <td>15699933</td>\n",
       "      <td>Life on the Atlas</td>\n",
       "      <td>Neversleepingalwaysdreaming</td>\n",
       "      <td>16 Aug 2018</td>\n",
       "      <td>591</td>\n",
       "      <td>Complete Work</td>\n",
       "      <td>Teen And Up Audiences</td>\n",
       "      <td>M/M</td>\n",
       "    </tr>\n",
       "    <tr>\n",
       "      <th>1</th>\n",
       "      <td>15699891</td>\n",
       "      <td>Under the Rubble</td>\n",
       "      <td>Rivea12</td>\n",
       "      <td>16 Aug 2018</td>\n",
       "      <td>5</td>\n",
       "      <td>Work in Progress</td>\n",
       "      <td>Teen And Up Audiences</td>\n",
       "      <td>F/F, F/M, M/M</td>\n",
       "    </tr>\n",
       "    <tr>\n",
       "      <th>2</th>\n",
       "      <td>15699831</td>\n",
       "      <td>Kitten Keith</td>\n",
       "      <td>MariRaii</td>\n",
       "      <td>16 Aug 2018</td>\n",
       "      <td>899</td>\n",
       "      <td>Complete Work</td>\n",
       "      <td>General Audiences</td>\n",
       "      <td>M/M</td>\n",
       "    </tr>\n",
       "    <tr>\n",
       "      <th>3</th>\n",
       "      <td>15699726</td>\n",
       "      <td>fake heroes and artificial love</td>\n",
       "      <td>who_tf_cares</td>\n",
       "      <td>16 Aug 2018</td>\n",
       "      <td>279</td>\n",
       "      <td>Complete Work</td>\n",
       "      <td>Teen And Up Audiences</td>\n",
       "      <td>M/M</td>\n",
       "    </tr>\n",
       "    <tr>\n",
       "      <th>4</th>\n",
       "      <td>15699738</td>\n",
       "      <td>The Way I Love You</td>\n",
       "      <td>orphan_account</td>\n",
       "      <td>16 Aug 2018</td>\n",
       "      <td>87</td>\n",
       "      <td>Complete Work</td>\n",
       "      <td>General Audiences</td>\n",
       "      <td>M/M</td>\n",
       "    </tr>\n",
       "  </tbody>\n",
       "</table>\n",
       "</div>"
      ],
      "text/plain": [
       "         id                            title                       author  \\\n",
       "0  15699933                Life on the Atlas  Neversleepingalwaysdreaming   \n",
       "1  15699891                 Under the Rubble                      Rivea12   \n",
       "2  15699831                     Kitten Keith                     MariRaii   \n",
       "3  15699726  fake heroes and artificial love                 who_tf_cares   \n",
       "4  15699738               The Way I Love You               orphan_account   \n",
       "\n",
       "          date  kudos          complete                    age          genre  \n",
       "0  16 Aug 2018    591     Complete Work  Teen And Up Audiences            M/M  \n",
       "1  16 Aug 2018      5  Work in Progress  Teen And Up Audiences  F/F, F/M, M/M  \n",
       "2  16 Aug 2018    899     Complete Work      General Audiences            M/M  \n",
       "3  16 Aug 2018    279     Complete Work  Teen And Up Audiences            M/M  \n",
       "4  16 Aug 2018     87     Complete Work      General Audiences            M/M  "
      ]
     },
     "execution_count": 4,
     "metadata": {},
     "output_type": "execute_result"
    }
   ],
   "source": [
    "# остальные теги не добавляю, они слишком разные, чтобы пытаться искать какие-то очевидные корреляции\n",
    "df.head()"
   ]
  },
  {
   "cell_type": "code",
   "execution_count": 53,
   "id": "80f419c4",
   "metadata": {},
   "outputs": [],
   "source": [
    "# для каждого персонажа\\пары была отдельная строчка, поэтому их надо объединять\n",
    "\n",
    "ch_query = \"\"\"\n",
    "SELECT *\n",
    "FROM characters\n",
    "\"\"\"\n",
    "\n",
    "ch = pd.read_sql_query(ch_query, con=con)"
   ]
  },
  {
   "cell_type": "code",
   "execution_count": 54,
   "id": "01803a30",
   "metadata": {},
   "outputs": [
    {
     "data": {
      "text/html": [
       "<div>\n",
       "<style scoped>\n",
       "    .dataframe tbody tr th:only-of-type {\n",
       "        vertical-align: middle;\n",
       "    }\n",
       "\n",
       "    .dataframe tbody tr th {\n",
       "        vertical-align: top;\n",
       "    }\n",
       "\n",
       "    .dataframe thead th {\n",
       "        text-align: right;\n",
       "    }\n",
       "</style>\n",
       "<table border=\"1\" class=\"dataframe\">\n",
       "  <thead>\n",
       "    <tr style=\"text-align: right;\">\n",
       "      <th></th>\n",
       "      <th>id</th>\n",
       "      <th>character</th>\n",
       "    </tr>\n",
       "  </thead>\n",
       "  <tbody>\n",
       "    <tr>\n",
       "      <th>0</th>\n",
       "      <td>15699933</td>\n",
       "      <td>Keith (Voltron)</td>\n",
       "    </tr>\n",
       "    <tr>\n",
       "      <th>1</th>\n",
       "      <td>15699933</td>\n",
       "      <td>Keith's Wolf (Voltron)</td>\n",
       "    </tr>\n",
       "    <tr>\n",
       "      <th>2</th>\n",
       "      <td>15699933</td>\n",
       "      <td>Lance (Voltron)</td>\n",
       "    </tr>\n",
       "    <tr>\n",
       "      <th>3</th>\n",
       "      <td>15699933</td>\n",
       "      <td>Veronica (Voltron)</td>\n",
       "    </tr>\n",
       "    <tr>\n",
       "      <th>4</th>\n",
       "      <td>15699933</td>\n",
       "      <td>Pidge | Katie Holt</td>\n",
       "    </tr>\n",
       "  </tbody>\n",
       "</table>\n",
       "</div>"
      ],
      "text/plain": [
       "         id               character\n",
       "0  15699933         Keith (Voltron)\n",
       "1  15699933  Keith's Wolf (Voltron)\n",
       "2  15699933         Lance (Voltron)\n",
       "3  15699933      Veronica (Voltron)\n",
       "4  15699933      Pidge | Katie Holt"
      ]
     },
     "execution_count": 54,
     "metadata": {},
     "output_type": "execute_result"
    }
   ],
   "source": [
    "ch.head()"
   ]
  },
  {
   "cell_type": "code",
   "execution_count": 55,
   "id": "6f501386",
   "metadata": {},
   "outputs": [
    {
     "data": {
      "text/html": [
       "<div>\n",
       "<style scoped>\n",
       "    .dataframe tbody tr th:only-of-type {\n",
       "        vertical-align: middle;\n",
       "    }\n",
       "\n",
       "    .dataframe tbody tr th {\n",
       "        vertical-align: top;\n",
       "    }\n",
       "\n",
       "    .dataframe thead th {\n",
       "        text-align: right;\n",
       "    }\n",
       "</style>\n",
       "<table border=\"1\" class=\"dataframe\">\n",
       "  <thead>\n",
       "    <tr style=\"text-align: right;\">\n",
       "      <th></th>\n",
       "      <th>id</th>\n",
       "      <th>character</th>\n",
       "    </tr>\n",
       "  </thead>\n",
       "  <tbody>\n",
       "    <tr>\n",
       "      <th>0</th>\n",
       "      <td>7422148</td>\n",
       "      <td>Keith (Voltron), Lance (Voltron), Shiro (Voltr...</td>\n",
       "    </tr>\n",
       "    <tr>\n",
       "      <th>1</th>\n",
       "      <td>7603057</td>\n",
       "      <td>Keith (Voltron), Lance (Voltron)</td>\n",
       "    </tr>\n",
       "    <tr>\n",
       "      <th>2</th>\n",
       "      <td>7637152</td>\n",
       "      <td>Allura (Voltron), Keith (Voltron), Lance (Volt...</td>\n",
       "    </tr>\n",
       "    <tr>\n",
       "      <th>3</th>\n",
       "      <td>7700959</td>\n",
       "      <td>Keith (Voltron), Lance (Voltron), Hunk (Voltro...</td>\n",
       "    </tr>\n",
       "    <tr>\n",
       "      <th>4</th>\n",
       "      <td>7713748</td>\n",
       "      <td>Keith (Voltron), Lance (Voltron), All main cast</td>\n",
       "    </tr>\n",
       "    <tr>\n",
       "      <th>...</th>\n",
       "      <td>...</td>\n",
       "      <td>...</td>\n",
       "    </tr>\n",
       "    <tr>\n",
       "      <th>6324</th>\n",
       "      <td>37952665</td>\n",
       "      <td>Keith (Voltron), Lance (Voltron), Hunk (Voltro...</td>\n",
       "    </tr>\n",
       "    <tr>\n",
       "      <th>6325</th>\n",
       "      <td>37956235</td>\n",
       "      <td>Keith (Voltron), Lance (Voltron), Shiro (Voltr...</td>\n",
       "    </tr>\n",
       "    <tr>\n",
       "      <th>6326</th>\n",
       "      <td>37961116</td>\n",
       "      <td>Keith (Voltron), Pidge (Voltron), Lance (Voltr...</td>\n",
       "    </tr>\n",
       "    <tr>\n",
       "      <th>6327</th>\n",
       "      <td>37966516</td>\n",
       "      <td>Keith (Voltron), Lance (Voltron), Shiro (Voltr...</td>\n",
       "    </tr>\n",
       "    <tr>\n",
       "      <th>6328</th>\n",
       "      <td>37968802</td>\n",
       "      <td>Keith (Voltron), Lance (Voltron), maxir, OC - ...</td>\n",
       "    </tr>\n",
       "  </tbody>\n",
       "</table>\n",
       "<p>6329 rows × 2 columns</p>\n",
       "</div>"
      ],
      "text/plain": [
       "            id                                          character\n",
       "0      7422148  Keith (Voltron), Lance (Voltron), Shiro (Voltr...\n",
       "1      7603057                   Keith (Voltron), Lance (Voltron)\n",
       "2      7637152  Allura (Voltron), Keith (Voltron), Lance (Volt...\n",
       "3      7700959  Keith (Voltron), Lance (Voltron), Hunk (Voltro...\n",
       "4      7713748    Keith (Voltron), Lance (Voltron), All main cast\n",
       "...        ...                                                ...\n",
       "6324  37952665  Keith (Voltron), Lance (Voltron), Hunk (Voltro...\n",
       "6325  37956235  Keith (Voltron), Lance (Voltron), Shiro (Voltr...\n",
       "6326  37961116  Keith (Voltron), Pidge (Voltron), Lance (Voltr...\n",
       "6327  37966516  Keith (Voltron), Lance (Voltron), Shiro (Voltr...\n",
       "6328  37968802  Keith (Voltron), Lance (Voltron), maxir, OC - ...\n",
       "\n",
       "[6329 rows x 2 columns]"
      ]
     },
     "execution_count": 55,
     "metadata": {},
     "output_type": "execute_result"
    }
   ],
   "source": [
    "chn = ch.groupby('id')['character'].apply(', '.join).reset_index()\n",
    "chn  # объединили персонажей"
   ]
  },
  {
   "cell_type": "code",
   "execution_count": 59,
   "id": "b7893f80",
   "metadata": {},
   "outputs": [],
   "source": [
    "rel_query = \"\"\"\n",
    "SELECT *\n",
    "FROM relationships\n",
    "\"\"\"\n",
    "\n",
    "rel = pd.read_sql_query(rel_query, con=con)"
   ]
  },
  {
   "cell_type": "code",
   "execution_count": 60,
   "id": "5e82667f",
   "metadata": {},
   "outputs": [
    {
     "data": {
      "text/html": [
       "<div>\n",
       "<style scoped>\n",
       "    .dataframe tbody tr th:only-of-type {\n",
       "        vertical-align: middle;\n",
       "    }\n",
       "\n",
       "    .dataframe tbody tr th {\n",
       "        vertical-align: top;\n",
       "    }\n",
       "\n",
       "    .dataframe thead th {\n",
       "        text-align: right;\n",
       "    }\n",
       "</style>\n",
       "<table border=\"1\" class=\"dataframe\">\n",
       "  <thead>\n",
       "    <tr style=\"text-align: right;\">\n",
       "      <th></th>\n",
       "      <th>id</th>\n",
       "      <th>relationship</th>\n",
       "    </tr>\n",
       "  </thead>\n",
       "  <tbody>\n",
       "    <tr>\n",
       "      <th>0</th>\n",
       "      <td>7422148</td>\n",
       "      <td>Keith/Lance (Voltron), Allura/Shiro (Voltron)</td>\n",
       "    </tr>\n",
       "    <tr>\n",
       "      <th>1</th>\n",
       "      <td>7603057</td>\n",
       "      <td>Keith/Lance (Voltron)</td>\n",
       "    </tr>\n",
       "    <tr>\n",
       "      <th>2</th>\n",
       "      <td>7637152</td>\n",
       "      <td>Everyone &amp; Everyone, Keith/Lance (Voltron)</td>\n",
       "    </tr>\n",
       "    <tr>\n",
       "      <th>3</th>\n",
       "      <td>7700959</td>\n",
       "      <td>Klance - Relationship, Keith/Lance (Voltron), ...</td>\n",
       "    </tr>\n",
       "    <tr>\n",
       "      <th>4</th>\n",
       "      <td>7713748</td>\n",
       "      <td>Keith/Lance (Voltron)</td>\n",
       "    </tr>\n",
       "    <tr>\n",
       "      <th>...</th>\n",
       "      <td>...</td>\n",
       "      <td>...</td>\n",
       "    </tr>\n",
       "    <tr>\n",
       "      <th>5956</th>\n",
       "      <td>37952665</td>\n",
       "      <td>Keith/Lance (Voltron)</td>\n",
       "    </tr>\n",
       "    <tr>\n",
       "      <th>5957</th>\n",
       "      <td>37956235</td>\n",
       "      <td>Keith/Lance (Voltron)</td>\n",
       "    </tr>\n",
       "    <tr>\n",
       "      <th>5958</th>\n",
       "      <td>37961116</td>\n",
       "      <td>Keith/Lance (Voltron), Allura/Lotor (Voltron),...</td>\n",
       "    </tr>\n",
       "    <tr>\n",
       "      <th>5959</th>\n",
       "      <td>37966516</td>\n",
       "      <td>Original Female Character/Original Male Character</td>\n",
       "    </tr>\n",
       "    <tr>\n",
       "      <th>5960</th>\n",
       "      <td>37968802</td>\n",
       "      <td>Keith/Lance (Voltron)</td>\n",
       "    </tr>\n",
       "  </tbody>\n",
       "</table>\n",
       "<p>5961 rows × 2 columns</p>\n",
       "</div>"
      ],
      "text/plain": [
       "            id                                       relationship\n",
       "0      7422148      Keith/Lance (Voltron), Allura/Shiro (Voltron)\n",
       "1      7603057                              Keith/Lance (Voltron)\n",
       "2      7637152         Everyone & Everyone, Keith/Lance (Voltron)\n",
       "3      7700959  Klance - Relationship, Keith/Lance (Voltron), ...\n",
       "4      7713748                              Keith/Lance (Voltron)\n",
       "...        ...                                                ...\n",
       "5956  37952665                              Keith/Lance (Voltron)\n",
       "5957  37956235                              Keith/Lance (Voltron)\n",
       "5958  37961116  Keith/Lance (Voltron), Allura/Lotor (Voltron),...\n",
       "5959  37966516  Original Female Character/Original Male Character\n",
       "5960  37968802                              Keith/Lance (Voltron)\n",
       "\n",
       "[5961 rows x 2 columns]"
      ]
     },
     "execution_count": 60,
     "metadata": {},
     "output_type": "execute_result"
    }
   ],
   "source": [
    "reln = rel.groupby('id')['relationship'].apply(', '.join).reset_index()\n",
    "reln # объединили пары"
   ]
  },
  {
   "cell_type": "markdown",
   "id": "4859b4b2",
   "metadata": {},
   "source": [
    "Теперь 3 таблицы сливаем в одну по id:"
   ]
  },
  {
   "cell_type": "code",
   "execution_count": 10,
   "id": "f545b6f2",
   "metadata": {},
   "outputs": [
    {
     "data": {
      "text/html": [
       "<div>\n",
       "<style scoped>\n",
       "    .dataframe tbody tr th:only-of-type {\n",
       "        vertical-align: middle;\n",
       "    }\n",
       "\n",
       "    .dataframe tbody tr th {\n",
       "        vertical-align: top;\n",
       "    }\n",
       "\n",
       "    .dataframe thead th {\n",
       "        text-align: right;\n",
       "    }\n",
       "</style>\n",
       "<table border=\"1\" class=\"dataframe\">\n",
       "  <thead>\n",
       "    <tr style=\"text-align: right;\">\n",
       "      <th></th>\n",
       "      <th>id</th>\n",
       "      <th>title</th>\n",
       "      <th>author</th>\n",
       "      <th>date</th>\n",
       "      <th>kudos</th>\n",
       "      <th>complete</th>\n",
       "      <th>age</th>\n",
       "      <th>genre</th>\n",
       "      <th>character</th>\n",
       "    </tr>\n",
       "  </thead>\n",
       "  <tbody>\n",
       "    <tr>\n",
       "      <th>0</th>\n",
       "      <td>15699933</td>\n",
       "      <td>Life on the Atlas</td>\n",
       "      <td>Neversleepingalwaysdreaming</td>\n",
       "      <td>16 Aug 2018</td>\n",
       "      <td>591</td>\n",
       "      <td>Complete Work</td>\n",
       "      <td>Teen And Up Audiences</td>\n",
       "      <td>M/M</td>\n",
       "      <td>Keith (Voltron), Keith's Wolf (Voltron), Lance...</td>\n",
       "    </tr>\n",
       "    <tr>\n",
       "      <th>1</th>\n",
       "      <td>15699891</td>\n",
       "      <td>Under the Rubble</td>\n",
       "      <td>Rivea12</td>\n",
       "      <td>16 Aug 2018</td>\n",
       "      <td>5</td>\n",
       "      <td>Work in Progress</td>\n",
       "      <td>Teen And Up Audiences</td>\n",
       "      <td>F/F, F/M, M/M</td>\n",
       "      <td>Lance (Voltron), Keith (Voltron), Shiro (Voltr...</td>\n",
       "    </tr>\n",
       "    <tr>\n",
       "      <th>2</th>\n",
       "      <td>15699831</td>\n",
       "      <td>Kitten Keith</td>\n",
       "      <td>MariRaii</td>\n",
       "      <td>16 Aug 2018</td>\n",
       "      <td>899</td>\n",
       "      <td>Complete Work</td>\n",
       "      <td>General Audiences</td>\n",
       "      <td>M/M</td>\n",
       "      <td>Keith (Voltron), Lance (Voltron), Hunk (Voltro...</td>\n",
       "    </tr>\n",
       "    <tr>\n",
       "      <th>3</th>\n",
       "      <td>15699726</td>\n",
       "      <td>fake heroes and artificial love</td>\n",
       "      <td>who_tf_cares</td>\n",
       "      <td>16 Aug 2018</td>\n",
       "      <td>279</td>\n",
       "      <td>Complete Work</td>\n",
       "      <td>Teen And Up Audiences</td>\n",
       "      <td>M/M</td>\n",
       "      <td>Lance (Voltron), Keith (Voltron), Hunk (Voltro...</td>\n",
       "    </tr>\n",
       "    <tr>\n",
       "      <th>4</th>\n",
       "      <td>15699738</td>\n",
       "      <td>The Way I Love You</td>\n",
       "      <td>orphan_account</td>\n",
       "      <td>16 Aug 2018</td>\n",
       "      <td>87</td>\n",
       "      <td>Complete Work</td>\n",
       "      <td>General Audiences</td>\n",
       "      <td>M/M</td>\n",
       "      <td>Shiro (Voltron), Lance (Voltron), Hunk (Voltro...</td>\n",
       "    </tr>\n",
       "  </tbody>\n",
       "</table>\n",
       "</div>"
      ],
      "text/plain": [
       "         id                            title                       author  \\\n",
       "0  15699933                Life on the Atlas  Neversleepingalwaysdreaming   \n",
       "1  15699891                 Under the Rubble                      Rivea12   \n",
       "2  15699831                     Kitten Keith                     MariRaii   \n",
       "3  15699726  fake heroes and artificial love                 who_tf_cares   \n",
       "4  15699738               The Way I Love You               orphan_account   \n",
       "\n",
       "          date  kudos          complete                    age          genre  \\\n",
       "0  16 Aug 2018    591     Complete Work  Teen And Up Audiences            M/M   \n",
       "1  16 Aug 2018      5  Work in Progress  Teen And Up Audiences  F/F, F/M, M/M   \n",
       "2  16 Aug 2018    899     Complete Work      General Audiences            M/M   \n",
       "3  16 Aug 2018    279     Complete Work  Teen And Up Audiences            M/M   \n",
       "4  16 Aug 2018     87     Complete Work      General Audiences            M/M   \n",
       "\n",
       "                                           character  \n",
       "0  Keith (Voltron), Keith's Wolf (Voltron), Lance...  \n",
       "1  Lance (Voltron), Keith (Voltron), Shiro (Voltr...  \n",
       "2  Keith (Voltron), Lance (Voltron), Hunk (Voltro...  \n",
       "3  Lance (Voltron), Keith (Voltron), Hunk (Voltro...  \n",
       "4  Shiro (Voltron), Lance (Voltron), Hunk (Voltro...  "
      ]
     },
     "execution_count": 10,
     "metadata": {},
     "output_type": "execute_result"
    }
   ],
   "source": [
    "df = pd.merge(df, chn, on='id')\n",
    "df.head()"
   ]
  },
  {
   "cell_type": "code",
   "execution_count": 11,
   "id": "3864a9b0",
   "metadata": {},
   "outputs": [
    {
     "data": {
      "text/html": [
       "<div>\n",
       "<style scoped>\n",
       "    .dataframe tbody tr th:only-of-type {\n",
       "        vertical-align: middle;\n",
       "    }\n",
       "\n",
       "    .dataframe tbody tr th {\n",
       "        vertical-align: top;\n",
       "    }\n",
       "\n",
       "    .dataframe thead th {\n",
       "        text-align: right;\n",
       "    }\n",
       "</style>\n",
       "<table border=\"1\" class=\"dataframe\">\n",
       "  <thead>\n",
       "    <tr style=\"text-align: right;\">\n",
       "      <th></th>\n",
       "      <th>id</th>\n",
       "      <th>title</th>\n",
       "      <th>author</th>\n",
       "      <th>date</th>\n",
       "      <th>kudos</th>\n",
       "      <th>complete</th>\n",
       "      <th>age</th>\n",
       "      <th>genre</th>\n",
       "      <th>character</th>\n",
       "      <th>relationship</th>\n",
       "    </tr>\n",
       "  </thead>\n",
       "  <tbody>\n",
       "    <tr>\n",
       "      <th>0</th>\n",
       "      <td>15699933</td>\n",
       "      <td>Life on the Atlas</td>\n",
       "      <td>Neversleepingalwaysdreaming</td>\n",
       "      <td>16 Aug 2018</td>\n",
       "      <td>591</td>\n",
       "      <td>Complete Work</td>\n",
       "      <td>Teen And Up Audiences</td>\n",
       "      <td>M/M</td>\n",
       "      <td>Keith (Voltron), Keith's Wolf (Voltron), Lance...</td>\n",
       "      <td>Keith/Lance (Voltron)</td>\n",
       "    </tr>\n",
       "    <tr>\n",
       "      <th>1</th>\n",
       "      <td>15699891</td>\n",
       "      <td>Under the Rubble</td>\n",
       "      <td>Rivea12</td>\n",
       "      <td>16 Aug 2018</td>\n",
       "      <td>5</td>\n",
       "      <td>Work in Progress</td>\n",
       "      <td>Teen And Up Audiences</td>\n",
       "      <td>F/F, F/M, M/M</td>\n",
       "      <td>Lance (Voltron), Keith (Voltron), Shiro (Voltr...</td>\n",
       "      <td>Keith/Lance (Voltron)</td>\n",
       "    </tr>\n",
       "    <tr>\n",
       "      <th>2</th>\n",
       "      <td>15699831</td>\n",
       "      <td>Kitten Keith</td>\n",
       "      <td>MariRaii</td>\n",
       "      <td>16 Aug 2018</td>\n",
       "      <td>899</td>\n",
       "      <td>Complete Work</td>\n",
       "      <td>General Audiences</td>\n",
       "      <td>M/M</td>\n",
       "      <td>Keith (Voltron), Lance (Voltron), Hunk (Voltro...</td>\n",
       "      <td>Keith/Lance (Voltron)</td>\n",
       "    </tr>\n",
       "    <tr>\n",
       "      <th>3</th>\n",
       "      <td>15699726</td>\n",
       "      <td>fake heroes and artificial love</td>\n",
       "      <td>who_tf_cares</td>\n",
       "      <td>16 Aug 2018</td>\n",
       "      <td>279</td>\n",
       "      <td>Complete Work</td>\n",
       "      <td>Teen And Up Audiences</td>\n",
       "      <td>M/M</td>\n",
       "      <td>Lance (Voltron), Keith (Voltron), Hunk (Voltro...</td>\n",
       "      <td>Keith/Lance (Voltron), Hunk &amp; Pidge | Katie Ho...</td>\n",
       "    </tr>\n",
       "    <tr>\n",
       "      <th>4</th>\n",
       "      <td>15699738</td>\n",
       "      <td>The Way I Love You</td>\n",
       "      <td>orphan_account</td>\n",
       "      <td>16 Aug 2018</td>\n",
       "      <td>87</td>\n",
       "      <td>Complete Work</td>\n",
       "      <td>General Audiences</td>\n",
       "      <td>M/M</td>\n",
       "      <td>Shiro (Voltron), Lance (Voltron), Hunk (Voltro...</td>\n",
       "      <td>Lance/Shiro (Voltron)</td>\n",
       "    </tr>\n",
       "  </tbody>\n",
       "</table>\n",
       "</div>"
      ],
      "text/plain": [
       "         id                            title                       author  \\\n",
       "0  15699933                Life on the Atlas  Neversleepingalwaysdreaming   \n",
       "1  15699891                 Under the Rubble                      Rivea12   \n",
       "2  15699831                     Kitten Keith                     MariRaii   \n",
       "3  15699726  fake heroes and artificial love                 who_tf_cares   \n",
       "4  15699738               The Way I Love You               orphan_account   \n",
       "\n",
       "          date  kudos          complete                    age          genre  \\\n",
       "0  16 Aug 2018    591     Complete Work  Teen And Up Audiences            M/M   \n",
       "1  16 Aug 2018      5  Work in Progress  Teen And Up Audiences  F/F, F/M, M/M   \n",
       "2  16 Aug 2018    899     Complete Work      General Audiences            M/M   \n",
       "3  16 Aug 2018    279     Complete Work  Teen And Up Audiences            M/M   \n",
       "4  16 Aug 2018     87     Complete Work      General Audiences            M/M   \n",
       "\n",
       "                                           character  \\\n",
       "0  Keith (Voltron), Keith's Wolf (Voltron), Lance...   \n",
       "1  Lance (Voltron), Keith (Voltron), Shiro (Voltr...   \n",
       "2  Keith (Voltron), Lance (Voltron), Hunk (Voltro...   \n",
       "3  Lance (Voltron), Keith (Voltron), Hunk (Voltro...   \n",
       "4  Shiro (Voltron), Lance (Voltron), Hunk (Voltro...   \n",
       "\n",
       "                                        relationship  \n",
       "0                              Keith/Lance (Voltron)  \n",
       "1                              Keith/Lance (Voltron)  \n",
       "2                              Keith/Lance (Voltron)  \n",
       "3  Keith/Lance (Voltron), Hunk & Pidge | Katie Ho...  \n",
       "4                              Lance/Shiro (Voltron)  "
      ]
     },
     "execution_count": 11,
     "metadata": {},
     "output_type": "execute_result"
    }
   ],
   "source": [
    "df = pd.merge(df, reln, on='id')\n",
    "df.head()"
   ]
  },
  {
   "cell_type": "code",
   "execution_count": 12,
   "id": "a578f5d9",
   "metadata": {},
   "outputs": [
    {
     "data": {
      "text/plain": [
       "5807"
      ]
     },
     "execution_count": 12,
     "metadata": {},
     "output_type": "execute_result"
    }
   ],
   "source": [
    "len(df)"
   ]
  },
  {
   "cell_type": "code",
   "execution_count": 13,
   "id": "ca67e417",
   "metadata": {},
   "outputs": [],
   "source": [
    "from matplotlib import pyplot as plt\n",
    "import matplotlib.dates as mdates"
   ]
  },
  {
   "cell_type": "code",
   "execution_count": 14,
   "id": "2bab7dd0",
   "metadata": {},
   "outputs": [],
   "source": [
    "# перевожу даты в числовые\n",
    "def changer(dte):\n",
    "    ch = {'Jan':'01', 'Feb':'02','Mar':'03','Apr':'04','May':'05',\n",
    "          'Jun':'06','Jul':'07','Aug':'08','Sep':'09','Oct':'10','Nov':'11','Dec':'12',}\n",
    "    d, mn, yr = dte.strip().split()\n",
    "    mn = ch[mn]\n",
    "    dte = f'{yr}-{mn}-{d}'\n",
    "    return dte\n",
    "\n",
    "df['date'] = df['date'].apply(changer)"
   ]
  },
  {
   "cell_type": "code",
   "execution_count": 15,
   "id": "687f08dd",
   "metadata": {},
   "outputs": [
    {
     "data": {
      "text/html": [
       "<div>\n",
       "<style scoped>\n",
       "    .dataframe tbody tr th:only-of-type {\n",
       "        vertical-align: middle;\n",
       "    }\n",
       "\n",
       "    .dataframe tbody tr th {\n",
       "        vertical-align: top;\n",
       "    }\n",
       "\n",
       "    .dataframe thead th {\n",
       "        text-align: right;\n",
       "    }\n",
       "</style>\n",
       "<table border=\"1\" class=\"dataframe\">\n",
       "  <thead>\n",
       "    <tr style=\"text-align: right;\">\n",
       "      <th></th>\n",
       "      <th>id</th>\n",
       "      <th>title</th>\n",
       "      <th>author</th>\n",
       "      <th>date</th>\n",
       "      <th>kudos</th>\n",
       "      <th>complete</th>\n",
       "      <th>age</th>\n",
       "      <th>genre</th>\n",
       "      <th>character</th>\n",
       "      <th>relationship</th>\n",
       "    </tr>\n",
       "  </thead>\n",
       "  <tbody>\n",
       "    <tr>\n",
       "      <th>0</th>\n",
       "      <td>15699933</td>\n",
       "      <td>Life on the Atlas</td>\n",
       "      <td>Neversleepingalwaysdreaming</td>\n",
       "      <td>2018-08-16</td>\n",
       "      <td>591</td>\n",
       "      <td>Complete Work</td>\n",
       "      <td>Teen And Up Audiences</td>\n",
       "      <td>M/M</td>\n",
       "      <td>Keith (Voltron), Keith's Wolf (Voltron), Lance...</td>\n",
       "      <td>Keith/Lance (Voltron)</td>\n",
       "    </tr>\n",
       "    <tr>\n",
       "      <th>1</th>\n",
       "      <td>15699891</td>\n",
       "      <td>Under the Rubble</td>\n",
       "      <td>Rivea12</td>\n",
       "      <td>2018-08-16</td>\n",
       "      <td>5</td>\n",
       "      <td>Work in Progress</td>\n",
       "      <td>Teen And Up Audiences</td>\n",
       "      <td>F/F, F/M, M/M</td>\n",
       "      <td>Lance (Voltron), Keith (Voltron), Shiro (Voltr...</td>\n",
       "      <td>Keith/Lance (Voltron)</td>\n",
       "    </tr>\n",
       "    <tr>\n",
       "      <th>2</th>\n",
       "      <td>15699831</td>\n",
       "      <td>Kitten Keith</td>\n",
       "      <td>MariRaii</td>\n",
       "      <td>2018-08-16</td>\n",
       "      <td>899</td>\n",
       "      <td>Complete Work</td>\n",
       "      <td>General Audiences</td>\n",
       "      <td>M/M</td>\n",
       "      <td>Keith (Voltron), Lance (Voltron), Hunk (Voltro...</td>\n",
       "      <td>Keith/Lance (Voltron)</td>\n",
       "    </tr>\n",
       "    <tr>\n",
       "      <th>3</th>\n",
       "      <td>15699726</td>\n",
       "      <td>fake heroes and artificial love</td>\n",
       "      <td>who_tf_cares</td>\n",
       "      <td>2018-08-16</td>\n",
       "      <td>279</td>\n",
       "      <td>Complete Work</td>\n",
       "      <td>Teen And Up Audiences</td>\n",
       "      <td>M/M</td>\n",
       "      <td>Lance (Voltron), Keith (Voltron), Hunk (Voltro...</td>\n",
       "      <td>Keith/Lance (Voltron), Hunk &amp; Pidge | Katie Ho...</td>\n",
       "    </tr>\n",
       "    <tr>\n",
       "      <th>4</th>\n",
       "      <td>15699738</td>\n",
       "      <td>The Way I Love You</td>\n",
       "      <td>orphan_account</td>\n",
       "      <td>2018-08-16</td>\n",
       "      <td>87</td>\n",
       "      <td>Complete Work</td>\n",
       "      <td>General Audiences</td>\n",
       "      <td>M/M</td>\n",
       "      <td>Shiro (Voltron), Lance (Voltron), Hunk (Voltro...</td>\n",
       "      <td>Lance/Shiro (Voltron)</td>\n",
       "    </tr>\n",
       "  </tbody>\n",
       "</table>\n",
       "</div>"
      ],
      "text/plain": [
       "         id                            title                       author  \\\n",
       "0  15699933                Life on the Atlas  Neversleepingalwaysdreaming   \n",
       "1  15699891                 Under the Rubble                      Rivea12   \n",
       "2  15699831                     Kitten Keith                     MariRaii   \n",
       "3  15699726  fake heroes and artificial love                 who_tf_cares   \n",
       "4  15699738               The Way I Love You               orphan_account   \n",
       "\n",
       "         date  kudos          complete                    age          genre  \\\n",
       "0  2018-08-16    591     Complete Work  Teen And Up Audiences            M/M   \n",
       "1  2018-08-16      5  Work in Progress  Teen And Up Audiences  F/F, F/M, M/M   \n",
       "2  2018-08-16    899     Complete Work      General Audiences            M/M   \n",
       "3  2018-08-16    279     Complete Work  Teen And Up Audiences            M/M   \n",
       "4  2018-08-16     87     Complete Work      General Audiences            M/M   \n",
       "\n",
       "                                           character  \\\n",
       "0  Keith (Voltron), Keith's Wolf (Voltron), Lance...   \n",
       "1  Lance (Voltron), Keith (Voltron), Shiro (Voltr...   \n",
       "2  Keith (Voltron), Lance (Voltron), Hunk (Voltro...   \n",
       "3  Lance (Voltron), Keith (Voltron), Hunk (Voltro...   \n",
       "4  Shiro (Voltron), Lance (Voltron), Hunk (Voltro...   \n",
       "\n",
       "                                        relationship  \n",
       "0                              Keith/Lance (Voltron)  \n",
       "1                              Keith/Lance (Voltron)  \n",
       "2                              Keith/Lance (Voltron)  \n",
       "3  Keith/Lance (Voltron), Hunk & Pidge | Katie Ho...  \n",
       "4                              Lance/Shiro (Voltron)  "
      ]
     },
     "execution_count": 15,
     "metadata": {},
     "output_type": "execute_result"
    }
   ],
   "source": [
    "df.head()"
   ]
  },
  {
   "cell_type": "code",
   "execution_count": 16,
   "id": "d93155b5",
   "metadata": {},
   "outputs": [
    {
     "data": {
      "text/html": [
       "<div>\n",
       "<style scoped>\n",
       "    .dataframe tbody tr th:only-of-type {\n",
       "        vertical-align: middle;\n",
       "    }\n",
       "\n",
       "    .dataframe tbody tr th {\n",
       "        vertical-align: top;\n",
       "    }\n",
       "\n",
       "    .dataframe thead th {\n",
       "        text-align: right;\n",
       "    }\n",
       "</style>\n",
       "<table border=\"1\" class=\"dataframe\">\n",
       "  <thead>\n",
       "    <tr style=\"text-align: right;\">\n",
       "      <th></th>\n",
       "      <th>id</th>\n",
       "      <th>title</th>\n",
       "      <th>author</th>\n",
       "      <th>date</th>\n",
       "      <th>kudos</th>\n",
       "      <th>complete</th>\n",
       "      <th>age</th>\n",
       "      <th>genre</th>\n",
       "      <th>character</th>\n",
       "      <th>relationship</th>\n",
       "    </tr>\n",
       "  </thead>\n",
       "  <tbody>\n",
       "    <tr>\n",
       "      <th>2099</th>\n",
       "      <td>11739690</td>\n",
       "      <td>Indulgence</td>\n",
       "      <td>gingayellow</td>\n",
       "      <td>2017-08-08</td>\n",
       "      <td>25</td>\n",
       "      <td>Complete Work</td>\n",
       "      <td>General Audiences</td>\n",
       "      <td>Gen, M/M</td>\n",
       "      <td>Shiro (Voltron), Keith (Voltron)</td>\n",
       "      <td>Shiro/Keith</td>\n",
       "    </tr>\n",
       "    <tr>\n",
       "      <th>2082</th>\n",
       "      <td>11746488</td>\n",
       "      <td>I'll Find You</td>\n",
       "      <td>orphan_account</td>\n",
       "      <td>2017-08-08</td>\n",
       "      <td>89</td>\n",
       "      <td>Complete Work</td>\n",
       "      <td>General Audiences</td>\n",
       "      <td>Gen</td>\n",
       "      <td>Shiro (Voltron), Black Lion (Voltron)</td>\n",
       "      <td>Shiro &amp; Black Lion (Voltron)</td>\n",
       "    </tr>\n",
       "    <tr>\n",
       "      <th>2081</th>\n",
       "      <td>11746980</td>\n",
       "      <td>Fight For Me</td>\n",
       "      <td>heavenlyrare</td>\n",
       "      <td>2017-08-08</td>\n",
       "      <td>56</td>\n",
       "      <td>Complete Work</td>\n",
       "      <td>General Audiences</td>\n",
       "      <td>M/M</td>\n",
       "      <td>Undisclosed Character(s), Hunk (Voltron), Keit...</td>\n",
       "      <td>Hunk/Keith (Voltron)</td>\n",
       "    </tr>\n",
       "    <tr>\n",
       "      <th>2080</th>\n",
       "      <td>11747067</td>\n",
       "      <td>Inopportune</td>\n",
       "      <td>Ironic_Swag7782</td>\n",
       "      <td>2017-08-08</td>\n",
       "      <td>569</td>\n",
       "      <td>Complete Work</td>\n",
       "      <td>General Audiences</td>\n",
       "      <td>F/M, M/M</td>\n",
       "      <td>Lance (Voltron), Keith (Voltron), Shiro (Voltron)</td>\n",
       "      <td>Allura/Shiro (Voltron), Keith/Lance (Voltron)</td>\n",
       "    </tr>\n",
       "    <tr>\n",
       "      <th>2079</th>\n",
       "      <td>11747511</td>\n",
       "      <td>a new beginning</td>\n",
       "      <td>skyestiel</td>\n",
       "      <td>2017-08-08</td>\n",
       "      <td>1747</td>\n",
       "      <td>Complete Work</td>\n",
       "      <td>General Audiences</td>\n",
       "      <td>M/M</td>\n",
       "      <td>Keith (Voltron), Lance (Voltron), Mentions of ...</td>\n",
       "      <td>Keith/Lance (Voltron)</td>\n",
       "    </tr>\n",
       "  </tbody>\n",
       "</table>\n",
       "</div>"
      ],
      "text/plain": [
       "            id            title           author        date  kudos  \\\n",
       "2099  11739690       Indulgence      gingayellow  2017-08-08     25   \n",
       "2082  11746488    I'll Find You   orphan_account  2017-08-08     89   \n",
       "2081  11746980     Fight For Me     heavenlyrare  2017-08-08     56   \n",
       "2080  11747067      Inopportune  Ironic_Swag7782  2017-08-08    569   \n",
       "2079  11747511  a new beginning        skyestiel  2017-08-08   1747   \n",
       "\n",
       "           complete                age     genre  \\\n",
       "2099  Complete Work  General Audiences  Gen, M/M   \n",
       "2082  Complete Work  General Audiences       Gen   \n",
       "2081  Complete Work  General Audiences       M/M   \n",
       "2080  Complete Work  General Audiences  F/M, M/M   \n",
       "2079  Complete Work  General Audiences       M/M   \n",
       "\n",
       "                                              character  \\\n",
       "2099                   Shiro (Voltron), Keith (Voltron)   \n",
       "2082              Shiro (Voltron), Black Lion (Voltron)   \n",
       "2081  Undisclosed Character(s), Hunk (Voltron), Keit...   \n",
       "2080  Lance (Voltron), Keith (Voltron), Shiro (Voltron)   \n",
       "2079  Keith (Voltron), Lance (Voltron), Mentions of ...   \n",
       "\n",
       "                                       relationship  \n",
       "2099                                    Shiro/Keith  \n",
       "2082                   Shiro & Black Lion (Voltron)  \n",
       "2081                           Hunk/Keith (Voltron)  \n",
       "2080  Allura/Shiro (Voltron), Keith/Lance (Voltron)  \n",
       "2079                          Keith/Lance (Voltron)  "
      ]
     },
     "execution_count": 16,
     "metadata": {},
     "output_type": "execute_result"
    }
   ],
   "source": [
    "df = df.sort_values(by ='date')\n",
    "df.head()"
   ]
  },
  {
   "cell_type": "markdown",
   "id": "724949a7",
   "metadata": {},
   "source": [
    "Я поздно поняла, что с датами работать нельзя, потому что на сайте работы упорядочены по датам, а я скачала не все, чтобы не уронить модель."
   ]
  },
  {
   "cell_type": "code",
   "execution_count": 18,
   "id": "6cf3ec43",
   "metadata": {},
   "outputs": [
    {
     "data": {
      "image/png": "[encoded data removed]",
      "text/plain": [
       "<Figure size 432x288 with 1 Axes>"
      ]
     },
     "metadata": {
      "needs_background": "light"
     },
     "output_type": "display_data"
    }
   ],
   "source": [
    "import datetime as dt\n",
    "\n",
    "x = [dt.datetime.strptime(d,'%Y-%m-%d').date() for d in df['date']]\n",
    "\n",
    "plt.bar(x, df['kudos'])\n",
    "plt.gcf().autofmt_xdate()"
   ]
  },
  {
   "cell_type": "code",
   "execution_count": 21,
   "id": "e91bd5b5",
   "metadata": {},
   "outputs": [
    {
     "data": {
      "text/plain": [
       "<BarContainer object of 5807 artists>"
      ]
     },
     "execution_count": 21,
     "metadata": {},
     "output_type": "execute_result"
    },
    {
     "data": {
      "image/png": "[encoded data removed]",
      "text/plain": [
       "<Figure size 432x288 with 1 Axes>"
      ]
     },
     "metadata": {
      "needs_background": "light"
     },
     "output_type": "display_data"
    }
   ],
   "source": [
    "plt.bar(df['date'].apply(lambda x: int(x.split('-')[0])), df['kudos'])"
   ]
  },
  {
   "cell_type": "code",
   "execution_count": 34,
   "id": "c41d33e0",
   "metadata": {},
   "outputs": [
    {
     "data": {
      "image/png": "[encoded data removed]",
      "text/plain": [
       "<Figure size 432x288 with 1 Axes>"
      ]
     },
     "metadata": {},
     "output_type": "display_data"
    }
   ],
   "source": [
    "df['age'].value_counts().plot.pie(title='Возрастные ограничения')\n",
    "\n",
    "plt.savefig('v_age.jpeg')"
   ]
  },
  {
   "cell_type": "code",
   "execution_count": 35,
   "id": "a0bfd0a2",
   "metadata": {},
   "outputs": [
    {
     "data": {
      "image/png": "[encoded data removed]",
      "text/plain": [
       "<Figure size 432x288 with 1 Axes>"
      ]
     },
     "metadata": {},
     "output_type": "display_data"
    }
   ],
   "source": [
    "df['genre'].value_counts().head(10).plot.pie(title='Тип отношений')\n",
    "plt.savefig('v_genre.jpeg')"
   ]
  },
  {
   "cell_type": "code",
   "execution_count": 36,
   "id": "602de407",
   "metadata": {},
   "outputs": [
    {
     "data": {
      "text/html": [
       "<div>\n",
       "<style scoped>\n",
       "    .dataframe tbody tr th:only-of-type {\n",
       "        vertical-align: middle;\n",
       "    }\n",
       "\n",
       "    .dataframe tbody tr th {\n",
       "        vertical-align: top;\n",
       "    }\n",
       "\n",
       "    .dataframe thead th {\n",
       "        text-align: right;\n",
       "    }\n",
       "</style>\n",
       "<table border=\"1\" class=\"dataframe\">\n",
       "  <thead>\n",
       "    <tr style=\"text-align: right;\">\n",
       "      <th></th>\n",
       "      <th>id</th>\n",
       "      <th>title</th>\n",
       "      <th>author</th>\n",
       "      <th>date</th>\n",
       "      <th>kudos</th>\n",
       "      <th>complete</th>\n",
       "      <th>age</th>\n",
       "      <th>genre</th>\n",
       "      <th>character</th>\n",
       "      <th>relationship</th>\n",
       "    </tr>\n",
       "  </thead>\n",
       "  <tbody>\n",
       "    <tr>\n",
       "      <th>4852</th>\n",
       "      <td>7422148</td>\n",
       "      <td>Blueprints</td>\n",
       "      <td>UnderTheSilentStars</td>\n",
       "      <td>2020-04-11</td>\n",
       "      <td>9885</td>\n",
       "      <td>Complete Work</td>\n",
       "      <td>Mature</td>\n",
       "      <td>M/M</td>\n",
       "      <td>Keith (Voltron), Lance (Voltron), Shiro (Voltr...</td>\n",
       "      <td>Keith/Lance (Voltron), Allura/Shiro (Voltron)</td>\n",
       "    </tr>\n",
       "    <tr>\n",
       "      <th>4478</th>\n",
       "      <td>7713748</td>\n",
       "      <td>live for the fight (when it's all that you got)</td>\n",
       "      <td>Yuu_chi</td>\n",
       "      <td>2020-04-30</td>\n",
       "      <td>6435</td>\n",
       "      <td>Complete Work</td>\n",
       "      <td>Mature</td>\n",
       "      <td>M/M</td>\n",
       "      <td>Keith (Voltron), Lance (Voltron), All main cast</td>\n",
       "      <td>Keith/Lance (Voltron)</td>\n",
       "    </tr>\n",
       "    <tr>\n",
       "      <th>5017</th>\n",
       "      <td>15830052</td>\n",
       "      <td>(You Can) Drop Your Façade</td>\n",
       "      <td>orphan_account</td>\n",
       "      <td>2018-10-13</td>\n",
       "      <td>5567</td>\n",
       "      <td>Complete Work</td>\n",
       "      <td>Teen And Up Audiences</td>\n",
       "      <td>Multi, F/F, F/M, M/M</td>\n",
       "      <td>Keith (Voltron), Lance (Voltron), Shiro (Voltr...</td>\n",
       "      <td>Keith/Lance (Voltron)</td>\n",
       "    </tr>\n",
       "    <tr>\n",
       "      <th>1207</th>\n",
       "      <td>11881221</td>\n",
       "      <td>i wanna love you (but i don't know if i can)</td>\n",
       "      <td>beautifulbane</td>\n",
       "      <td>2017-08-22</td>\n",
       "      <td>5203</td>\n",
       "      <td>Complete Work</td>\n",
       "      <td>Teen And Up Audiences</td>\n",
       "      <td>M/M</td>\n",
       "      <td>Lance (Voltron), Keith (Voltron), Hunk (Voltro...</td>\n",
       "      <td>Keith/Lance (Voltron)</td>\n",
       "    </tr>\n",
       "    <tr>\n",
       "      <th>1908</th>\n",
       "      <td>11770383</td>\n",
       "      <td>Keith the Amnesiac</td>\n",
       "      <td>jilliancares</td>\n",
       "      <td>2017-08-11</td>\n",
       "      <td>5077</td>\n",
       "      <td>Complete Work</td>\n",
       "      <td>General Audiences</td>\n",
       "      <td>M/M</td>\n",
       "      <td>Keith (Voltron), Lance (Voltron), Shiro (Voltr...</td>\n",
       "      <td>Keith/Lance (Voltron)</td>\n",
       "    </tr>\n",
       "    <tr>\n",
       "      <th>579</th>\n",
       "      <td>11278587</td>\n",
       "      <td>Lockdown</td>\n",
       "      <td>tommino</td>\n",
       "      <td>2018-08-09</td>\n",
       "      <td>4591</td>\n",
       "      <td>Work in Progress</td>\n",
       "      <td>Teen And Up Audiences</td>\n",
       "      <td>Gen, M/M</td>\n",
       "      <td>Lance (Voltron), Keith (Voltron), Shiro (Voltr...</td>\n",
       "      <td>Keith/Lance (Voltron)</td>\n",
       "    </tr>\n",
       "    <tr>\n",
       "      <th>3654</th>\n",
       "      <td>18626356</td>\n",
       "      <td>Like a Second Heart</td>\n",
       "      <td>aquietdin</td>\n",
       "      <td>2019-05-26</td>\n",
       "      <td>4384</td>\n",
       "      <td>Complete Work</td>\n",
       "      <td>Mature</td>\n",
       "      <td>M/M</td>\n",
       "      <td>Lance (Voltron), Keith (Voltron), Shiro (Voltr...</td>\n",
       "      <td>Keith/Lance (Voltron), Keith &amp; Lance (Voltron)</td>\n",
       "    </tr>\n",
       "  </tbody>\n",
       "</table>\n",
       "</div>"
      ],
      "text/plain": [
       "            id                                            title  \\\n",
       "4852   7422148                                       Blueprints   \n",
       "4478   7713748  live for the fight (when it's all that you got)   \n",
       "5017  15830052                       (You Can) Drop Your Façade   \n",
       "1207  11881221     i wanna love you (but i don't know if i can)   \n",
       "1908  11770383                               Keith the Amnesiac   \n",
       "579   11278587                                         Lockdown   \n",
       "3654  18626356                              Like a Second Heart   \n",
       "\n",
       "                   author        date  kudos          complete  \\\n",
       "4852  UnderTheSilentStars  2020-04-11   9885     Complete Work   \n",
       "4478              Yuu_chi  2020-04-30   6435     Complete Work   \n",
       "5017       orphan_account  2018-10-13   5567     Complete Work   \n",
       "1207        beautifulbane  2017-08-22   5203     Complete Work   \n",
       "1908         jilliancares  2017-08-11   5077     Complete Work   \n",
       "579               tommino  2018-08-09   4591  Work in Progress   \n",
       "3654            aquietdin  2019-05-26   4384     Complete Work   \n",
       "\n",
       "                        age                 genre  \\\n",
       "4852                 Mature                   M/M   \n",
       "4478                 Mature                   M/M   \n",
       "5017  Teen And Up Audiences  Multi, F/F, F/M, M/M   \n",
       "1207  Teen And Up Audiences                   M/M   \n",
       "1908      General Audiences                   M/M   \n",
       "579   Teen And Up Audiences              Gen, M/M   \n",
       "3654                 Mature                   M/M   \n",
       "\n",
       "                                              character  \\\n",
       "4852  Keith (Voltron), Lance (Voltron), Shiro (Voltr...   \n",
       "4478    Keith (Voltron), Lance (Voltron), All main cast   \n",
       "5017  Keith (Voltron), Lance (Voltron), Shiro (Voltr...   \n",
       "1207  Lance (Voltron), Keith (Voltron), Hunk (Voltro...   \n",
       "1908  Keith (Voltron), Lance (Voltron), Shiro (Voltr...   \n",
       "579   Lance (Voltron), Keith (Voltron), Shiro (Voltr...   \n",
       "3654  Lance (Voltron), Keith (Voltron), Shiro (Voltr...   \n",
       "\n",
       "                                        relationship  \n",
       "4852   Keith/Lance (Voltron), Allura/Shiro (Voltron)  \n",
       "4478                           Keith/Lance (Voltron)  \n",
       "5017                           Keith/Lance (Voltron)  \n",
       "1207                           Keith/Lance (Voltron)  \n",
       "1908                           Keith/Lance (Voltron)  \n",
       "579                            Keith/Lance (Voltron)  \n",
       "3654  Keith/Lance (Voltron), Keith & Lance (Voltron)  "
      ]
     },
     "execution_count": 36,
     "metadata": {},
     "output_type": "execute_result"
    }
   ],
   "source": [
    "df.sort_values(by ='kudos', ascending=False).head(7)"
   ]
  },
  {
   "cell_type": "code",
   "execution_count": 49,
   "id": "dfe6d20b",
   "metadata": {},
   "outputs": [
    {
     "data": {
      "image/png": "[encoded data removed]",
      "text/plain": [
       "<Figure size 432x288 with 1 Axes>"
      ]
     },
     "metadata": {
      "needs_background": "light"
     },
     "output_type": "display_data"
    }
   ],
   "source": [
    "df['kudos'].plot.hist(bins=100, xlim=(0, 2500), title=\"Популярность\")\n",
    "plt.xlabel(\"Кол-во плюсиков от читателей\")\n",
    "plt.savefig('v_popular.jpeg')"
   ]
  },
  {
   "cell_type": "code",
   "execution_count": 47,
   "id": "3ecf4f23",
   "metadata": {},
   "outputs": [
    {
     "data": {
      "text/plain": [
       "Text(0.5, 0, 'Кол-во плюсиков от читателей')"
      ]
     },
     "execution_count": 47,
     "metadata": {},
     "output_type": "execute_result"
    },
    {
     "data": {
      "image/png": "[encoded data removed]",
      "text/plain": [
       "<Figure size 432x288 with 1 Axes>"
      ]
     },
     "metadata": {
      "needs_background": "light"
     },
     "output_type": "display_data"
    }
   ],
   "source": [
    "df['kudos'].plot.hist(bins=100, xlim=(0, 500), title=\"Популярность\")\n",
    "plt.xlabel(\"Кол-во плюсиков от читателей\")"
   ]
  },
  {
   "cell_type": "code",
   "execution_count": 50,
   "id": "909bbd9a",
   "metadata": {},
   "outputs": [
    {
     "data": {
      "image/png": "[encoded data removed]",
      "text/plain": [
       "<Figure size 432x288 with 1 Axes>"
      ]
     },
     "metadata": {},
     "output_type": "display_data"
    }
   ],
   "source": [
    "df['complete'].value_counts().plot.pie(title='Как часто завершают фанфики?')\n",
    "plt.savefig('v_complete.jpeg')"
   ]
  },
  {
   "cell_type": "code",
   "execution_count": 72,
   "id": "41492ab7",
   "metadata": {},
   "outputs": [
    {
     "data": {
      "image/png": "[encoded data removed]",
      "text/plain": [
       "<Figure size 432x288 with 1 Axes>"
      ]
     },
     "metadata": {
      "needs_background": "light"
     },
     "output_type": "display_data"
    }
   ],
   "source": [
    "ch['character'].value_counts().head(12).plot.bar(title='Популярность персонажей', color='maroon')\n",
    "plt.savefig('v_character.jpeg')"
   ]
  },
  {
   "cell_type": "code",
   "execution_count": 78,
   "id": "140f3c98",
   "metadata": {},
   "outputs": [
    {
     "data": {
      "image/png": "[encoded data removed]",
      "text/plain": [
       "<Figure size 432x288 with 1 Axes>"
      ]
     },
     "metadata": {
      "needs_background": "light"
     },
     "output_type": "display_data"
    }
   ],
   "source": [
    "rel['relationship'].value_counts().head(12).plot.bar(title='Популярность пейрингов', color='purple')\n",
    "plt.savefig('v_relationship.jpeg')"
   ]
  },
  {
   "cell_type": "code",
   "execution_count": 68,
   "id": "308ac027",
   "metadata": {},
   "outputs": [],
   "source": [
    "??plt.bar"
   ]
  }
 ],
 "metadata": {
  "kernelspec": {
   "display_name": "Python 3 (ipykernel)",
   "language": "python",
   "name": "python3"
  },
  "language_info": {
   "codemirror_mode": {
    "name": "ipython",
    "version": 3
   },
   "file_extension": ".py",
   "mimetype": "text/x-python",
   "name": "python",
   "nbconvert_exporter": "python",
   "pygments_lexer": "ipython3",
   "version": "3.9.7"
  }
 },
 "nbformat": 4,
 "nbformat_minor": 5
}
