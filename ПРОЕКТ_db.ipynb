{
 "cells": [
  {
   "cell_type": "markdown",
   "id": "77879769",
   "metadata": {},
   "source": [
    "# Выкачивание данных"
   ]
  },
  {
   "cell_type": "code",
   "execution_count": 13,
   "id": "899fe6d2",
   "metadata": {},
   "outputs": [
    {
     "name": "stdout",
     "output_type": "stream",
     "text": [
      "Requirement already satisfied: fake_useragent in c:\\users\\swl\\anaconda3\\lib\\site-packages (0.1.11)\n"
     ]
    }
   ],
   "source": [
    "import sys\n",
    "import requests\n",
    "!{sys.executable} -m pip install fake_useragent\n",
    "from fake_useragent import UserAgent\n",
    "from bs4 import BeautifulSoup\n",
    "import re"
   ]
  },
  {
   "cell_type": "code",
   "execution_count": 3,
   "id": "bad3391c",
   "metadata": {},
   "outputs": [],
   "source": [
    "import sqlite3\n",
    "from tqdm.auto import tqdm"
   ]
  },
  {
   "cell_type": "code",
   "execution_count": 4,
   "id": "036bef64",
   "metadata": {},
   "outputs": [],
   "source": [
    "conn = sqlite3.connect('voltron.db')\n",
    "cur = conn.cursor()"
   ]
  },
  {
   "cell_type": "code",
   "execution_count": 5,
   "id": "e19daa8b",
   "metadata": {},
   "outputs": [],
   "source": [
    "# создаю пустую базу\n",
    "\n",
    "cur.execute(\"\"\"\n",
    "CREATE TABLE IF NOT EXISTS main\n",
    "(id int, title text, author text, date text, kudos int, complete text, age text, genre text)\n",
    "\"\"\")\n",
    "\n",
    "cur.execute(\"\"\"\n",
    "CREATE TABLE IF NOT EXISTS previews\n",
    "(id int, preview text) \n",
    "\"\"\")\n",
    "\n",
    "cur.execute(\"\"\"\n",
    "CREATE TABLE IF NOT EXISTS characters \n",
    "(id int, character text) \n",
    "\"\"\")\n",
    "\n",
    "cur.execute(\"\"\"\n",
    "CREATE TABLE IF NOT EXISTS relationships\n",
    "(id int, relationship text)\n",
    "\"\"\")\n",
    "\n",
    "cur.execute(\"\"\"\n",
    "CREATE TABLE IF NOT EXISTS other_tags \n",
    "(id int, tag text) \n",
    "\"\"\")\n",
    "\n",
    "conn.commit()  # создаю базу"
   ]
  },
  {
   "cell_type": "code",
   "execution_count": 9,
   "id": "0621670d",
   "metadata": {},
   "outputs": [],
   "source": [
    "# conn.close()"
   ]
  },
  {
   "cell_type": "code",
   "execution_count": 6,
   "id": "88833072",
   "metadata": {},
   "outputs": [],
   "source": [
    "session = requests.session()"
   ]
  },
  {
   "cell_type": "code",
   "execution_count": 1,
   "id": "c36be231",
   "metadata": {},
   "outputs": [],
   "source": [
    "def article(art):  # обработка одного фанфика\n",
    "    if not art.find('dd', {'class': 'language'}).text == 'English':\n",
    "        return None  # выбрасываю всё, что не на английском\n",
    "    \n",
    "    fand = art.find('h5', {'class': 'fandoms heading'})\n",
    "    fand = fand.find_all('a')\n",
    "    if len(fand) > 1:\n",
    "        return None  # выбрасываю все кроссоверы, чтобы не множить сущности\n",
    "    \n",
    "    marks = art.find_all('span', {'class': 'text'})\n",
    "    age = marks[0].text\n",
    "    if age == 'Explicit':\n",
    "        return None  # выбрасываю очень взрослую литературу, потому что морально не готова обучать модель на таком\n",
    "    \n",
    "    f_id = art.find('a')['href']\n",
    "    f_id = int(re.search('\\d+', f_id).group(0))\n",
    "    \n",
    "    cur.execute('SELECT id FROM main')\n",
    "    seen = set(i[0] for i in cur.fetchall())\n",
    "    if f_id in seen:\n",
    "        return None\n",
    "    \n",
    "    name = art.find('a').text\n",
    "    auth = art.find('a', {'rel': 'author'})\n",
    "    if auth:\n",
    "        auth = auth.text\n",
    "    else:\n",
    "        auth = None\n",
    "    date = art.find('p', {'class': 'datetime'}).text\n",
    "    kudos = art.find('dd', {'class': 'kudos'})\n",
    "    if kudos:\n",
    "        kudos = int(kudos.text)\n",
    "    else:\n",
    "        kudos = 0\n",
    "    # заполняю строку в базе с id, автором, датой публикации, количеством плюшек от читателей,\n",
    "    # статусом завершён\\в процессе\\брошен, возрастными ограничениями и (условно) жанром\n",
    "    \n",
    "    complete = marks[3].text\n",
    "    rel = marks[2].text\n",
    "    cur.execute(\n",
    "        \"\"\"\n",
    "        INSERT INTO main\n",
    "            (id, title, author, date, kudos, complete, age, genre) \n",
    "            VALUES (?, ?, ?, ?, ?, ?, ?, ?)\n",
    "        \"\"\", (f_id, name, auth, date, kudos, complete, age, rel))\n",
    "    conn.commit()\n",
    "    \n",
    "    relat = [i.text for i in art.find_all('li', {'class': 'relationships'})]\n",
    "    for r in relat:\n",
    "        cur.execute(\n",
    "        \"\"\"\n",
    "        INSERT INTO relationships\n",
    "            (id, relationship) \n",
    "            VALUES (?,?)\n",
    "        \"\"\", (f_id, r))\n",
    "    conn.commit()    \n",
    "    chars = [i.text for i in art.find_all('li', {'class': 'characters'})]\n",
    "    for c in chars:\n",
    "        cur.execute(\n",
    "        \"\"\"\n",
    "        INSERT INTO characters\n",
    "            (id, character) \n",
    "            VALUES (?,?)\n",
    "        \"\"\", (f_id, c))\n",
    "    conn.commit()\n",
    "    other = [i.text for i in art.find_all('li', {'class': 'freeforms'})] # + art.find('li', {'class': 'freeforms last'}).text\n",
    "    for o in other:\n",
    "        cur.execute(\n",
    "        \"\"\"\n",
    "        INSERT INTO other_tags\n",
    "            (id, tag) \n",
    "            VALUES (?,?)\n",
    "        \"\"\", (f_id, o))\n",
    "    conn.commit()\n",
    "    p_text = art.find('blockquote', {'class': 'userstuff summary'})\n",
    "    if p_text:\n",
    "        p_text = p_text.text\n",
    "        \n",
    "        cur.execute(\n",
    "        \"\"\"\n",
    "        INSERT INTO previews\n",
    "            (id, preview) \n",
    "            VALUES (?,?)\n",
    "        \"\"\", (f_id, p_text))\n",
    "    else:\n",
    "        p_text = ''\n",
    "    conn.commit()\n",
    "    #  сразу пишу теги + текст превью в текстовый файл для модели\n",
    "    with open('voltron.txt', 'a', encoding=\"utf-8\") as f:\n",
    "        add_up = ', '.join(relat+chars+other)\n",
    "        add_up = add_up + '\\n' + p_text + '\\n\\n'\n",
    "        f.write(add_up)"
   ]
  },
  {
   "cell_type": "code",
   "execution_count": 7,
   "id": "19382077",
   "metadata": {},
   "outputs": [],
   "source": [
    "def full_page(numba):    #  парсит страницу и находит в ней блоки отдельных фанфиков\n",
    "    u_a = UserAgent(verify_ssl=False)\n",
    "    url = f\"https://archiveofourown.org/tags/Voltron:%20Legendary%20Defender/works?page={numba}/\"\n",
    "    response = session.get(url, headers={'User-Agent': u_a.random})\n",
    "    soup = BeautifulSoup(response.text, 'html.parser')\n",
    "    articles = soup.find_all('li', {'role': 'article'})\n",
    "    for a in articles:\n",
    "        article(a)"
   ]
  },
  {
   "cell_type": "code",
   "execution_count": 14,
   "id": "5fa44297",
   "metadata": {},
   "outputs": [],
   "source": [
    "def allmighty(wot):\n",
    "    for step in tqdm(range(600, wot)):\n",
    "        full_page(step)"
   ]
  },
  {
   "cell_type": "code",
   "execution_count": 15,
   "id": "79e146df",
   "metadata": {},
   "outputs": [
    {
     "data": {
      "application/vnd.jupyter.widget-view+json": {
       "model_id": "86fc49f04d464de2b403f7367602eee1",
       "version_major": 2,
       "version_minor": 0
      },
      "text/plain": [
       "  0%|          | 0/1400 [00:00<?, ?it/s]"
      ]
     },
     "metadata": {},
     "output_type": "display_data"
    }
   ],
   "source": [
    "allmighty(2000)"
   ]
  }
 ],
 "metadata": {
  "kernelspec": {
   "display_name": "Python 3 (ipykernel)",
   "language": "python",
   "name": "python3"
  },
  "language_info": {
   "codemirror_mode": {
    "name": "ipython",
    "version": 3
   },
   "file_extension": ".py",
   "mimetype": "text/x-python",
   "name": "python",
   "nbconvert_exporter": "python",
   "pygments_lexer": "ipython3",
   "version": "3.9.7"
  }
 },
 "nbformat": 4,
 "nbformat_minor": 5
}
